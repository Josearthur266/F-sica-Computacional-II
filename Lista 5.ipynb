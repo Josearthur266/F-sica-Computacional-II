{
 "cells": [
  {
   "cell_type": "code",
   "execution_count": 1,
   "id": "6725a76d",
   "metadata": {},
   "outputs": [
    {
     "data": {
      "text/html": [
       "<div id=\"glowscript\" class=\"glowscript\"></div>"
      ],
      "text/plain": [
       "<IPython.core.display.HTML object>"
      ]
     },
     "metadata": {},
     "output_type": "display_data"
    },
    {
     "data": {
      "application/javascript": [
       "if (typeof Jupyter !== \"undefined\") { window.__context = { glowscript_container: $(\"#glowscript\").removeAttr(\"id\")};}else{ element.textContent = ' ';}"
      ],
      "text/plain": [
       "<IPython.core.display.Javascript object>"
      ]
     },
     "metadata": {},
     "output_type": "display_data"
    }
   ],
   "source": [
    "from numpy import*\n",
    "from matplotlib.pyplot import*\n",
    "from vpython import*\n",
    "import random as random"
   ]
  },
  {
   "cell_type": "markdown",
   "id": "27143db3",
   "metadata": {},
   "source": [
    "## Problema 1"
   ]
  },
  {
   "cell_type": "code",
   "execution_count": 2,
   "id": "4c36bbab",
   "metadata": {},
   "outputs": [
    {
     "data": {
      "text/plain": [
       "2.4084479999999875"
      ]
     },
     "execution_count": 2,
     "metadata": {},
     "output_type": "execute_result"
    }
   ],
   "source": [
    "coord = zeros(10)\n",
    "N = 1000000\n",
    "I = 0\n",
    "\n",
    "for q in range(N):\n",
    "    s = 0\n",
    "    for i in range(10):\n",
    "        coord[i] = random.random()\n",
    "        s = (coord[i])**2 + s\n",
    "        \n",
    "    if s <= 1:\n",
    "        f = 1\n",
    "    else:\n",
    "        f = 0\n",
    "      \n",
    "    I = f*1024/N + I\n",
    "    \n",
    "I"
   ]
  },
  {
   "cell_type": "markdown",
   "id": "42927469",
   "metadata": {},
   "source": [
    "## Problema 2"
   ]
  },
  {
   "cell_type": "code",
   "execution_count": 3,
   "id": "defe87b8",
   "metadata": {},
   "outputs": [
    {
     "data": {
      "text/plain": [
       "0.8389827671116732"
      ]
     },
     "execution_count": 3,
     "metadata": {},
     "output_type": "execute_result"
    }
   ],
   "source": [
    "#b)\n",
    "N = 1000000\n",
    "# a integral de w(x)dx é igual a 2, considerando a = 0 e b=1, e w(x) = x^(-0.5)\n",
    "\n",
    "def f(x):\n",
    "    return (x**(-1/2))/(exp(x)+1)\n",
    "def w(x):\n",
    "    return x**(-0.5)\n",
    "I = 0\n",
    "for i in range(N):\n",
    "    x = (random.random())**2\n",
    "    I = (f(x)/w(x))*(2/N) + I\n",
    "    \n",
    "I"
   ]
  },
  {
   "cell_type": "markdown",
   "id": "f739b7e7",
   "metadata": {},
   "source": [
    "## Problema 3"
   ]
  },
  {
   "cell_type": "code",
   "execution_count": 4,
   "id": "de7876af",
   "metadata": {},
   "outputs": [],
   "source": [
    "cont, n = 0, 20\n",
    "grade = zeros([n,n])\n",
    "for j in range(n):\n",
    "    for i in range(n):\n",
    "        if random.random() < 0.5 and cont <= (n*n)/2:\n",
    "            grade[i][j] = 1\n",
    "        else:\n",
    "            grade[i][j] = -1"
   ]
  },
  {
   "cell_type": "code",
   "execution_count": 5,
   "id": "310c7bda",
   "metadata": {},
   "outputs": [],
   "source": [
    "#a)\n",
    "def fE(j):\n",
    "    global grade\n",
    "    temp1, temp2 = 0, 0\n",
    "    temp1 = -j*grade[:-1,:]*grade[1:,:] + temp1\n",
    "    temp2 = -j*grade[:,:-1]*grade[:,1:] + temp2\n",
    "        \n",
    "    E = sum(temp1) + sum(temp2)\n",
    "    return E"
   ]
  },
  {
   "cell_type": "code",
   "execution_count": null,
   "id": "884d0476",
   "metadata": {},
   "outputs": [],
   "source": [
    "#b) e c)\n",
    "step = 250000\n",
    "M, Energy = [], []\n",
    "J = 1\n",
    "for i in range(step):\n",
    "    E1 = fE(J)\n",
    "    x = random.randrange(0, 20)\n",
    "    y = random.randrange(0, 20)\n",
    "    grade[x][y] = -grade[x][y]\n",
    "    E2 = fE(J)\n",
    "    dE = E2 - E1\n",
    "    \n",
    "    if dE > 0:\n",
    "        if random.random() > exp(-dE):\n",
    "            grade[x][y] = -grade[x][y]\n",
    "    Energy.append(fE(J))\n",
    "    M.append(sum(grade))"
   ]
  },
  {
   "cell_type": "code",
   "execution_count": null,
   "id": "b6e679d8",
   "metadata": {
    "scrolled": true
   },
   "outputs": [],
   "source": [
    "figure(figsize = (8,5))\n",
    "plot(M)\n",
    "figure(figsize=(8,5))\n",
    "plot(Energy)\n",
    "\n",
    "\n",
    "# d) é possível ver que o gráfico desce ou sobe, \n",
    "#porém ele sempre estabiliza e isso se da porque queremos que ele va para um estado com menos energia, \n",
    "#e como estamos simulando o dipolo de um material ferromagnético, onde a energia é menor quando os dipolos estão alinhados, \n",
    "#ou seja, os dipolos vão se alinhando e assim o gráfico estabiliza."
   ]
  },
  {
   "cell_type": "code",
   "execution_count": 15,
   "id": "1c939401",
   "metadata": {
    "scrolled": true
   },
   "outputs": [
    {
     "data": {
      "text/html": [
       "<div id=\"glowscript\" class=\"glowscript\"></div>"
      ],
      "text/plain": [
       "<IPython.core.display.HTML object>"
      ]
     },
     "metadata": {},
     "output_type": "display_data"
    },
    {
     "data": {
      "application/javascript": [
       "if (typeof Jupyter !== \"undefined\") { window.__context = { glowscript_container: $(\"#glowscript\").removeAttr(\"id\")};}else{ element.textContent = ' ';}"
      ],
      "text/plain": [
       "<IPython.core.display.Javascript object>"
      ]
     },
     "metadata": {},
     "output_type": "display_data"
    },
    {
     "ename": "KeyboardInterrupt",
     "evalue": "",
     "output_type": "error",
     "traceback": [
      "\u001b[1;31m---------------------------------------------------------------------------\u001b[0m",
      "\u001b[1;31mKeyboardInterrupt\u001b[0m                         Traceback (most recent call last)",
      "\u001b[1;32m~\\AppData\\Local\\Temp\\ipykernel_12216\\2608281766.py\u001b[0m in \u001b[0;36m<module>\u001b[1;34m\u001b[0m\n\u001b[0;32m     22\u001b[0m \u001b[1;33m\u001b[0m\u001b[0m\n\u001b[0;32m     23\u001b[0m \u001b[1;32mfor\u001b[0m \u001b[0mi\u001b[0m \u001b[1;32min\u001b[0m \u001b[0mrange\u001b[0m\u001b[1;33m(\u001b[0m\u001b[0mstep\u001b[0m\u001b[1;33m)\u001b[0m\u001b[1;33m:\u001b[0m\u001b[1;33m\u001b[0m\u001b[1;33m\u001b[0m\u001b[0m\n\u001b[1;32m---> 24\u001b[1;33m     \u001b[0mrate\u001b[0m\u001b[1;33m(\u001b[0m\u001b[1;36m100\u001b[0m\u001b[1;33m)\u001b[0m\u001b[1;33m\u001b[0m\u001b[1;33m\u001b[0m\u001b[0m\n\u001b[0m\u001b[0;32m     25\u001b[0m     \u001b[0mE1\u001b[0m \u001b[1;33m=\u001b[0m \u001b[0mfE\u001b[0m\u001b[1;33m(\u001b[0m\u001b[0mJ\u001b[0m\u001b[1;33m)\u001b[0m\u001b[1;33m\u001b[0m\u001b[1;33m\u001b[0m\u001b[0m\n\u001b[0;32m     26\u001b[0m \u001b[1;33m\u001b[0m\u001b[0m\n",
      "\u001b[1;32m~\\Anaconda3\\lib\\site-packages\\vpython\\rate_control.py\u001b[0m in \u001b[0;36m__call__\u001b[1;34m(self, N)\u001b[0m\n\u001b[0;32m    264\u001b[0m         \u001b[0mself\u001b[0m\u001b[1;33m.\u001b[0m\u001b[0mrval\u001b[0m \u001b[1;33m=\u001b[0m \u001b[0mN\u001b[0m\u001b[1;33m\u001b[0m\u001b[1;33m\u001b[0m\u001b[0m\n\u001b[0;32m    265\u001b[0m         \u001b[1;32mif\u001b[0m \u001b[0mself\u001b[0m\u001b[1;33m.\u001b[0m\u001b[0mrval\u001b[0m \u001b[1;33m<\u001b[0m \u001b[1;36m1\u001b[0m\u001b[1;33m:\u001b[0m \u001b[1;32mraise\u001b[0m \u001b[0mValueError\u001b[0m\u001b[1;33m(\u001b[0m\u001b[1;34m\"rate value must be greater than or equal to 1\"\u001b[0m\u001b[1;33m)\u001b[0m\u001b[1;33m\u001b[0m\u001b[1;33m\u001b[0m\u001b[0m\n\u001b[1;32m--> 266\u001b[1;33m         \u001b[0msuper\u001b[0m\u001b[1;33m(\u001b[0m\u001b[0m_RateKeeper2\u001b[0m\u001b[1;33m,\u001b[0m \u001b[0mself\u001b[0m\u001b[1;33m)\u001b[0m\u001b[1;33m.\u001b[0m\u001b[0m__call__\u001b[0m\u001b[1;33m(\u001b[0m\u001b[0mself\u001b[0m\u001b[1;33m.\u001b[0m\u001b[0mrval\u001b[0m\u001b[1;33m)\u001b[0m \u001b[1;31m## calls __call__ in rate_control.py\u001b[0m\u001b[1;33m\u001b[0m\u001b[1;33m\u001b[0m\u001b[0m\n\u001b[0m\u001b[0;32m    267\u001b[0m \u001b[1;33m\u001b[0m\u001b[0m\n\u001b[0;32m    268\u001b[0m \u001b[1;33m\u001b[0m\u001b[0m\n",
      "\u001b[1;32m~\\Anaconda3\\lib\\site-packages\\vpython\\rate_control.py\u001b[0m in \u001b[0;36m__call__\u001b[1;34m(self, maxRate)\u001b[0m\n\u001b[0;32m    218\u001b[0m             \u001b[0mdt\u001b[0m \u001b[1;33m=\u001b[0m \u001b[0mself\u001b[0m\u001b[1;33m.\u001b[0m\u001b[0mlastSleep\u001b[0m \u001b[1;33m+\u001b[0m \u001b[0mself\u001b[0m\u001b[1;33m.\u001b[0m\u001b[0mcalls\u001b[0m\u001b[1;33m*\u001b[0m\u001b[1;33m(\u001b[0m\u001b[0mself\u001b[0m\u001b[1;33m.\u001b[0m\u001b[0muserTime\u001b[0m \u001b[1;33m+\u001b[0m \u001b[0mself\u001b[0m\u001b[1;33m.\u001b[0m\u001b[0mcallTime\u001b[0m \u001b[1;33m+\u001b[0m \u001b[0mself\u001b[0m\u001b[1;33m.\u001b[0m\u001b[0mdelay\u001b[0m\u001b[1;33m)\u001b[0m \u001b[1;33m+\u001b[0m\u001b[0;31m \u001b[0m\u001b[0;31m\\\u001b[0m\u001b[1;33m\u001b[0m\u001b[1;33m\u001b[0m\u001b[0m\n\u001b[0;32m    219\u001b[0m                  \u001b[0mrenders\u001b[0m\u001b[1;33m*\u001b[0m\u001b[0mself\u001b[0m\u001b[1;33m.\u001b[0m\u001b[0mrenderTime\u001b[0m \u001b[1;33m+\u001b[0m \u001b[0msleeps\u001b[0m\u001b[1;33m*\u001b[0m\u001b[0mself\u001b[0m\u001b[1;33m.\u001b[0m\u001b[0minteractionPeriod\u001b[0m \u001b[1;33m-\u001b[0m \u001b[0m_clock\u001b[0m\u001b[1;33m(\u001b[0m\u001b[1;33m)\u001b[0m\u001b[1;33m\u001b[0m\u001b[1;33m\u001b[0m\u001b[0m\n\u001b[1;32m--> 220\u001b[1;33m             \u001b[0m_sleep\u001b[0m\u001b[1;33m(\u001b[0m\u001b[0mdt\u001b[0m\u001b[1;33m)\u001b[0m\u001b[1;33m\u001b[0m\u001b[1;33m\u001b[0m\u001b[0m\n\u001b[0m\u001b[0;32m    221\u001b[0m             \u001b[0mself\u001b[0m\u001b[1;33m.\u001b[0m\u001b[0mlastSleep\u001b[0m \u001b[1;33m=\u001b[0m \u001b[0m_clock\u001b[0m\u001b[1;33m(\u001b[0m\u001b[1;33m)\u001b[0m\u001b[1;33m\u001b[0m\u001b[1;33m\u001b[0m\u001b[0m\n\u001b[0;32m    222\u001b[0m             \u001b[0mself\u001b[0m\u001b[1;33m.\u001b[0m\u001b[0mcalls\u001b[0m \u001b[1;33m=\u001b[0m \u001b[1;36m0\u001b[0m\u001b[1;33m\u001b[0m\u001b[1;33m\u001b[0m\u001b[0m\n",
      "\u001b[1;32m~\\Anaconda3\\lib\\site-packages\\vpython\\rate_control.py\u001b[0m in \u001b[0;36m_sleep\u001b[1;34m(dt)\u001b[0m\n\u001b[0;32m     60\u001b[0m         \u001b[0mdtsleep\u001b[0m \u001b[1;33m=\u001b[0m \u001b[0mnticks\u001b[0m\u001b[1;33m*\u001b[0m\u001b[0m_tick\u001b[0m\u001b[1;33m\u001b[0m\u001b[1;33m\u001b[0m\u001b[0m\n\u001b[0;32m     61\u001b[0m         \u001b[0mt\u001b[0m \u001b[1;33m=\u001b[0m \u001b[0m_clock\u001b[0m\u001b[1;33m(\u001b[0m\u001b[1;33m)\u001b[0m\u001b[1;33m\u001b[0m\u001b[1;33m\u001b[0m\u001b[0m\n\u001b[1;32m---> 62\u001b[1;33m         \u001b[0mtime\u001b[0m\u001b[1;33m.\u001b[0m\u001b[0msleep\u001b[0m\u001b[1;33m(\u001b[0m\u001b[0mdtsleep\u001b[0m\u001b[1;33m)\u001b[0m\u001b[1;33m\u001b[0m\u001b[1;33m\u001b[0m\u001b[0m\n\u001b[0m\u001b[0;32m     63\u001b[0m         \u001b[0mt\u001b[0m \u001b[1;33m=\u001b[0m \u001b[0m_clock\u001b[0m\u001b[1;33m(\u001b[0m\u001b[1;33m)\u001b[0m\u001b[1;33m-\u001b[0m\u001b[0mt\u001b[0m\u001b[1;33m\u001b[0m\u001b[1;33m\u001b[0m\u001b[0m\n\u001b[0;32m     64\u001b[0m         \u001b[0mdt\u001b[0m \u001b[1;33m-=\u001b[0m \u001b[0mt\u001b[0m\u001b[1;33m\u001b[0m\u001b[1;33m\u001b[0m\u001b[0m\n",
      "\u001b[1;31mKeyboardInterrupt\u001b[0m: "
     ]
    }
   ],
   "source": [
    "#e)\n",
    "T = 1\n",
    "cont, n = 0, 20\n",
    "canvas(title = 'Extra', width = 500, height = 500,background = color.white)\n",
    "par = []\n",
    "grade = zeros([n,n])\n",
    "\n",
    "for j in range(n):\n",
    "    linha = []\n",
    "    for i in range(n):\n",
    "        if random.random() < 0.5 and cont <= (n*n)/2:\n",
    "            linha.append(sphere(pos = vector(i, j, 0),radius=0.5, color = color.blue)) #as bolas azuis representam o spin +1\n",
    "            grade[i][j] = 1\n",
    "        else:\n",
    "            linha.append(sphere(pos = vector(i, j, 0),radius=0.5, color = color.red)) #as bolas vermelhas representam o spin -1\n",
    "            grade[i][j] = -1\n",
    "    par.append(linha)\n",
    "\n",
    "step = 100000\n",
    "J, T = 1, 1\n",
    "M, Energy = [], []\n",
    "\n",
    "for i in range(step):\n",
    "    rate(100)\n",
    "    E1 = fE(J)\n",
    "    \n",
    "    x = random.randrange(0,20)\n",
    "    y = random.randrange(0,20)\n",
    "    \n",
    "    grade[x][y] = -grade[x][y]\n",
    "    E2 = fE(J)\n",
    "    dE = E2 - E1\n",
    "\n",
    "    if dE > 0:\n",
    "        if random.random() > exp(-dE/T):\n",
    "            grade[x][y] = -grade[x][y]\n",
    "        \n",
    "    if grade[x][y] == 1:\n",
    "        par[x][y].color = color.blue\n",
    "        \n",
    "    if grade[x][y] == -1:\n",
    "        par[x][y].color = color.red\n",
    "        \n",
    "    Energy.append(fE(J))\n",
    "    M.append(sum(grade))\n",
    "\n",
    "\n",
    "# É possível notar que quanto maior a temperatura mais tempo demora para se estabilizar, \n",
    "#isso ocorre porque quanto maior for a temperatura mais agitadas ficam as moléculas e assim ficando mais instável."
   ]
  },
  {
   "cell_type": "markdown",
   "id": "94a84582",
   "metadata": {},
   "source": [
    "## Problema 4"
   ]
  },
  {
   "cell_type": "code",
   "execution_count": 11,
   "id": "a4810c0f",
   "metadata": {},
   "outputs": [],
   "source": [
    "#a)\n",
    "Tmax = 10\n",
    "Tmin = 1e-6\n",
    "tau = 1e4\n",
    "\n",
    "def fdelta():\n",
    "    \n",
    "    mi = 1\n",
    "    z = random.random()\n",
    "    theta = random.random()*2*pi\n",
    "    r = mi*sqrt(-2*log(1-z))\n",
    "    \n",
    "    return r*cos(theta)\n",
    "\n",
    "def fa(x):\n",
    "    return x**2 - cos(4*pi*x)"
   ]
  },
  {
   "cell_type": "code",
   "execution_count": 12,
   "id": "3f693d74",
   "metadata": {},
   "outputs": [
    {
     "name": "stdout",
     "output_type": "stream",
     "text": [
      "-0.00019843517654383191\n"
     ]
    },
    {
     "data": {
      "image/png": "[encoded data removed]",
      "text/plain": [
       "<Figure size 640x480 with 1 Axes>"
      ]
     },
     "metadata": {},
     "output_type": "display_data"
    }
   ],
   "source": [
    "xlist = []\n",
    "t, x = 0, 2\n",
    "T = Tmax\n",
    "while T > Tmin:\n",
    "    t += 1\n",
    "    T = Tmax*exp(-t/tau)\n",
    "    \n",
    "    f0 = fa(x)\n",
    "    delta =  fdelta()\n",
    "    x = x + delta\n",
    "    df = fa(x) - f0\n",
    "    \n",
    "    if df>0:\n",
    "        if random.random() > exp(-df/T):\n",
    "            x = x - delta\n",
    "            \n",
    "    xlist.append(x)\n",
    "    \n",
    "plot(xlist, '.')\n",
    "print(x)"
   ]
  },
  {
   "cell_type": "code",
   "execution_count": 13,
   "id": "fbc8264c",
   "metadata": {},
   "outputs": [],
   "source": [
    "#b)\n",
    "Tmax = 10\n",
    "Tmin = 1e-6\n",
    "tau = 1e4\n",
    "\n",
    "def fb(x):\n",
    "    return cos(x) + cos(x*sqrt(2)) + cos(x*sqrt(3))"
   ]
  },
  {
   "cell_type": "code",
   "execution_count": 14,
   "id": "919e78fc",
   "metadata": {},
   "outputs": [
    {
     "name": "stdout",
     "output_type": "stream",
     "text": [
      "34.1467234523505\n"
     ]
    },
    {
     "data": {
      "image/png": "[encoded data removed]",
      "text/plain": [
       "<Figure size 640x480 with 1 Axes>"
      ]
     },
     "metadata": {},
     "output_type": "display_data"
    }
   ],
   "source": [
    "xlist = []\n",
    "t, x = 0, 0\n",
    "T = Tmax\n",
    "while T > Tmin:\n",
    "    t += 1\n",
    "    T = Tmax*exp(-t/tau)\n",
    "    \n",
    "    f0 = fb(x)\n",
    "    delta =  fdelta()\n",
    "    \n",
    "    while (x+delta)> 50 or (x+delta) < 0:\n",
    "        delta = fdelta()\n",
    "        \n",
    "    x = x + delta\n",
    "    df = fb(x) - f0 \n",
    "    \n",
    "    if df>0:\n",
    "        if random.random() > exp(-df/T):\n",
    "            x = x - delta\n",
    "            \n",
    "    xlist.append(x)\n",
    "    \n",
    "plot(xlist, '.')\n",
    "print(x)"
   ]
  },
  {
   "cell_type": "code",
   "execution_count": null,
   "id": "40fa1757",
   "metadata": {},
   "outputs": [],
   "source": []
  }
 ],
 "metadata": {
  "kernelspec": {
   "display_name": "Python 3 (ipykernel)",
   "language": "python",
   "name": "python3"
  },
  "language_info": {
   "codemirror_mode": {
    "name": "ipython",
    "version": 3
   },
   "file_extension": ".py",
   "mimetype": "text/x-python",
   "name": "python",
   "nbconvert_exporter": "python",
   "pygments_lexer": "ipython3",
   "version": "3.9.13"
  }
 },
 "nbformat": 4,
 "nbformat_minor": 5
}
